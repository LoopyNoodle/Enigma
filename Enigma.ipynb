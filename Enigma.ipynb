{
 "cells": [
  {
   "cell_type": "code",
   "execution_count": 72,
   "id": "78088b93-490c-4014-9135-3487d3fb0da0",
   "metadata": {},
   "outputs": [],
   "source": [
    "import random\n",
    "import string"
   ]
  },
  {
   "cell_type": "code",
   "execution_count": 73,
   "id": "d1934457-0737-4e99-9cc2-c9a1df30c023",
   "metadata": {},
   "outputs": [],
   "source": [
    "class Steckerbrett:\n",
    "    def __init__(self, wiring_pairs):\n",
    "        '''\n",
    "        Initialising the Steckerbrett with the letter pairs - just considering two pairs here\n",
    "        \n",
    "        wiring_pairs: list of tuples, for example, [('A', 'B'), ('C', 'D')]\n",
    "        '''\n",
    "        \n",
    "        self.wiring = {}\n",
    "        for a, b in wiring_pairs:\n",
    "            self.wiring[a] = b\n",
    "            self.wiring[b] = a  # creating a dictionary with the pairs\n",
    "\n",
    "    def swap(self, letter):\n",
    "        # swapping only those specific pairs\n",
    "        return self.wiring.get(letter, letter)  # letter to swap"
   ]
  },
  {
   "cell_type": "code",
   "execution_count": 74,
   "id": "62b4d9ed-3d74-49d4-bcda-ac9c71b4f90c",
   "metadata": {},
   "outputs": [],
   "source": [
    "class Rotor:\n",
    "    def __init__(self, wiring, notch, position=0):\n",
    "        # Initialising a rotor\n",
    "        # based on Caesar ciphers\n",
    "        self.wiring = list(wiring)\n",
    "        self.notch = notch  # position where the rotor causes the next rotor to advance\n",
    "        self.position = position  # initial pos of rotor (0 by default)\n",
    "\n",
    "    def forward(self, letter):\n",
    "        # Passes the letter on to the next rotor\n",
    "        index = (ord(letter) - ord('A') + self.position) % 26\n",
    "        encoded_letter = self.wiring[index]\n",
    "        return chr((ord(encoded_letter) - ord('A') - self.position) % 26 + ord('A'))  # reverse adjustment\n",
    "\n",
    "    def back(self, letter):\n",
    "        '''\n",
    "        Passes the letter backward through the rotor - needed as the signal goes through the rotor\n",
    "        in both directions during encryption and decryption\n",
    "        '''\n",
    "        \n",
    "        index = (ord(letter) - ord('A') + self.position) % 26\n",
    "        decoded_index = self.wiring.index(chr(index + ord('A')))\n",
    "        return chr((decoded_index - self.position) % 26 + ord('A'))  # reverse adjustment\n",
    "\n",
    "    def rotate(self):\n",
    "        self.position = (self.position + 1) % 26  # rotor rotates by 1 position each time\n",
    "        return self.position == self.notch  # True => the next rotor should rotate\n",
    "\n"
   ]
  },
  {
   "cell_type": "code",
   "execution_count": 75,
   "id": "d48b204c-3709-4e9e-9707-e9ac212aa769",
   "metadata": {},
   "outputs": [],
   "source": [
    "class Reflector:\n",
    "    def __init__(self, wiring):\n",
    "        self.wiring = list(wiring) # reflector wiring\n",
    "\n",
    "    def reflect(self, letter):\n",
    "        index = ord(letter) - ord('A')\n",
    "        return self.wiring[index]\n",
    "        "
   ]
  },
  {
   "cell_type": "code",
   "execution_count": 76,
   "id": "d7832a2e-b8ff-48bf-bf2c-3004390879ae",
   "metadata": {},
   "outputs": [],
   "source": [
    "class Enigma:\n",
    "    def __init__(self, steckerbrett, rotors, reflector):\n",
    "        self.steckerbrett = steckerbrett\n",
    "        self.rotors = rotors\n",
    "        self.reflector = reflector\n",
    "        self.initial_pos = [r.position for r in rotors]\n",
    "\n",
    "    def reset(self):\n",
    "        for r, pos in zip(self.rotors, self.initial_pos):\n",
    "            r.position = pos\n",
    "\n",
    "    def encrypt(self, message):\n",
    "        result = []\n",
    "        for i in message:\n",
    "            if i.isalpha():\n",
    "                i = i.upper()\n",
    "                # first passes through the steckerbrett\n",
    "                i = self.steckerbrett.swap(i)\n",
    "\n",
    "                # and then through the rotors\n",
    "                for r in self.rotors:\n",
    "                    i = r.forward(i)\n",
    "\n",
    "                # reflection\n",
    "                i = self.reflector.reflect(i)\n",
    "\n",
    "                # back through the rotors\n",
    "                for r in reversed(self.rotors):\n",
    "                    i = r.back(i)\n",
    "\n",
    "                # back through the steckerbrett again\n",
    "                i = self.steckerbrett.swap(i)\n",
    "\n",
    "                # rotation of rotors\n",
    "                for r in self.rotors:\n",
    "                    if not r.rotate():\n",
    "                        break\n",
    "\n",
    "            result.append(i)\n",
    "        return ''.join(result)  # encrypted!!\n",
    "\n",
    "    def decrypt(self, message):\n",
    "        # resetting rotor positions before decrypting\n",
    "        self.reset()\n",
    "        return self.encrypt(message) # encrypting the letter as usual (works for decryption due to symmetry)\n"
   ]
  },
  {
   "cell_type": "code",
   "execution_count": 38,
   "id": "36ce3af5-7487-463a-88b2-ad407a71452d",
   "metadata": {},
   "outputs": [
    {
     "name": "stdout",
     "output_type": "stream",
     "text": [
      "VYTGQIPRMHSWFCDJEUKALOXZNB\n"
     ]
    }
   ],
   "source": [
    "# IGNORE\n",
    "# created just to generate rotor wiring settings\n",
    "a = list(string.ascii_uppercase)\n",
    "random.shuffle(a)\n",
    "print(''.join(a))"
   ]
  },
  {
   "cell_type": "code",
   "execution_count": 124,
   "id": "e0f70d27-0414-4c7a-99fc-f3ea5360d52c",
   "metadata": {},
   "outputs": [],
   "source": [
    "# Configurations\n",
    "\n",
    "steckerbrett_settings = [('Q', 'Z'), ('P', 'M')]\n",
    "rotor1 = Rotor('TMFIAPLNRUBEGWJDKQXHCZVSOY', notch=16)\n",
    "rotor2 = Rotor('AMFUSYCDWRZKLQGTJXVBOEIHPN', notch=4)\n",
    "rotor3 = Rotor('VYTGQIPRMHSWFCDJEUKALOXZNB', notch=21)\n",
    "ref = Reflector('YRUHQSLDPXNGOKMIEBFZCWVJAT') # using a standard ww2 setting instead as other wirings didn't work\n",
    "\n",
    "steckerbrett = Steckerbrett(steckerbrett_settings)\n",
    "enigma = Enigma(steckerbrett, [rotor1, rotor2, rotor3], ref)"
   ]
  },
  {
   "cell_type": "markdown",
   "id": "27aae172-4c7a-4309-9795-54360e8d0b03",
   "metadata": {},
   "source": [
    "### Encryption"
   ]
  },
  {
   "cell_type": "code",
   "execution_count": 132,
   "id": "65c9c36f-8364-4694-b0a7-a563a9e1aa5d",
   "metadata": {},
   "outputs": [
    {
     "name": "stdin",
     "output_type": "stream",
     "text": [
      "Enter your message: Das wetter in Berlin ist wahrscheinlich wunderbar heil Sahaana\n"
     ]
    },
    {
     "name": "stdout",
     "output_type": "stream",
     "text": [
      "Encrypted: LKW KGPCPI PQ FUJTFS YQF BVQFTFAUEWNNXV LLXXGCFEM ZZQI XFTFRID\n"
     ]
    }
   ],
   "source": [
    "# message = 'Das wetter in Berlin ist wahrscheinlich wunderbar heil Sahaana'\n",
    "# enc = ''.join(enigma.encrypt(j) if j.isalpha() else j for j in message)\n",
    "# print(\"Encrypted:\", enc)\n",
    "\n",
    "message = input('Enter your message:')\n",
    "enc = enigma.encrypt(message)\n",
    "print(\"Encrypted:\", enc)"
   ]
  },
  {
   "cell_type": "markdown",
   "id": "3a07d67d-8a89-4ddc-9e21-494ef6e3f342",
   "metadata": {},
   "source": [
    "### Decryption"
   ]
  },
  {
   "cell_type": "code",
   "execution_count": 133,
   "id": "9111c014-a08b-4cc6-9d64-acf5a7e732a1",
   "metadata": {},
   "outputs": [
    {
     "name": "stdout",
     "output_type": "stream",
     "text": [
      "Decrypted: DAS WETTER IN BERLIN IST WAHRSCHEINLICH WUNDERBAR HEIL SAHAANA\n"
     ]
    }
   ],
   "source": [
    "dec = enigma.decrypt(enc)\n",
    "print(\"Decrypted:\", dec)\n",
    "\n",
    "# resetting configurations -- SUPER IMPORTANT as decryption is sensitive to initial rotor settings\n",
    "steckerbrett = Steckerbrett(steckerbrett_settings)\n",
    "enigma = Enigma(steckerbrett, [rotor1, rotor2, rotor3], ref)"
   ]
  }
 ],
 "metadata": {
  "kernelspec": {
   "display_name": "Python 3 (ipykernel)",
   "language": "python",
   "name": "python3"
  },
  "language_info": {
   "codemirror_mode": {
    "name": "ipython",
    "version": 3
   },
   "file_extension": ".py",
   "mimetype": "text/x-python",
   "name": "python",
   "nbconvert_exporter": "python",
   "pygments_lexer": "ipython3",
   "version": "3.12.8"
  }
 },
 "nbformat": 4,
 "nbformat_minor": 5
}
