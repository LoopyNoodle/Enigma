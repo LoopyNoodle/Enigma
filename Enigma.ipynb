{
 "cells": [
  {
   "cell_type": "code",
   "execution_count": 1,
   "id": "78088b93-490c-4014-9135-3487d3fb0da0",
   "metadata": {},
   "outputs": [],
   "source": [
    "import random\n",
    "import string"
   ]
  },
  {
   "cell_type": "code",
   "execution_count": 31,
   "id": "d1934457-0737-4e99-9cc2-c9a1df30c023",
   "metadata": {},
   "outputs": [],
   "source": [
    "class steckerbrett:\n",
    "    def __init__(self, wiring_pairs):\n",
    "        '''\n",
    "        Initialising the Steckerbrett with the letter pairs\n",
    "        \n",
    "        wiring_pairs: list of tuples, for example, [('A', 'B'), ('C', 'D')]\n",
    "        '''\n",
    "        \n",
    "        self.wiring = {}\n",
    "        for a, b in wiring_pairs:\n",
    "            self.wiring[a] = b\n",
    "            self.wiring[b] = a # creating a dictionary with the pairs\n",
    "\n",
    "    def swap(self, letter):\n",
    "        # swapping only those specific pairs\n",
    "        return self.wiring.get(letter, letter) # letter to swap"
   ]
  },
  {
   "cell_type": "code",
   "execution_count": 30,
   "id": "62b4d9ed-3d74-49d4-bcda-ac9c71b4f90c",
   "metadata": {},
   "outputs": [],
   "source": [
    "class rotor:\n",
    "    def __init__(self, wiring, notch, position=0):\n",
    "        # initialising a rotor \n",
    "        # based on Caesar ciphers\n",
    "        self.wiring = wiring\n",
    "        self.notch = notch # position where the rotor causes the next rotor to advance\n",
    "        self.position = position # initial pos of rotor (0 by default)\n",
    "\n",
    "    def forward(self, letter):\n",
    "        # passes the letter on to the next rotor\n",
    "        index = ((ord(letter) - ord('A')) + self.position) % 26\n",
    "        encoded_letter = self.wiring[index]\n",
    "        return chr((ord(encoded_letter) - ord('A') - self.position) % 26 + ord('A')) # reverse adjustment\n",
    "\n",
    "    def back(self, letter):\n",
    "        '''\n",
    "        Passes the letter backward through the rotor - needed as the signal goes through the rotor\n",
    "        in both directions during encryption and decryption\n",
    "        '''\n",
    "        \n",
    "        index = (ord(letter) - ord('A') + self.position) % 26\n",
    "        decoded_index = self.wiring.index(chr(index + ord('A')))\n",
    "        return chr((decoded_index - self.position) % 26 + ord('A')) # reverse adjustment\n",
    "\n",
    "    def rotation(self):\n",
    "        self.position = (self.position + 1) % 26 # rotor rotates by 1 position each time\n",
    "        return self.position == self.notch # True => the next rotor should rotate"
   ]
  },
  {
   "cell_type": "code",
   "execution_count": 32,
   "id": "d48b204c-3709-4e9e-9707-e9ac212aa769",
   "metadata": {},
   "outputs": [],
   "source": [
    "class reflector:\n",
    "    def __init__(self, wiring):\n",
    "        self.wiring = wiring # reflector wiring\n",
    "\n",
    "    def reflect(self, letter):\n",
    "        index = ord(letter) - ord('A')\n",
    "        return self.wiring[index]"
   ]
  },
  {
   "cell_type": "code",
   "execution_count": 45,
   "id": "ace67a30-bb19-415a-8b0b-356d27811ac9",
   "metadata": {},
   "outputs": [],
   "source": [
    "class Enigma:\n",
    "    def __init__(self, Steckerbrett, Rotors, Reflector):\n",
    "        self.Steckerbrett = Steckerbrett\n",
    "        self.Rotors = Rotors\n",
    "        self.Reflector = Reflector\n",
    "        self.initial_pos = [r.position for r in Rotors]\n",
    "\n",
    "    def encrypt(self, letter):\n",
    "        # first passes through the plugboard\n",
    "        letter = self.Steckerbrett.swap(letter)\n",
    "        \n",
    "        # and then through the rotors\n",
    "        for i in self.Rotors:\n",
    "            letter = i.forward(letter)\n",
    "\n",
    "        # reflection\n",
    "        letter = self.Reflector.reflect(letter)\n",
    "\n",
    "        # back through the rotors\n",
    "        for i in reversed(self.Rotors):\n",
    "            letter = i.back(letter)\n",
    "\n",
    "        # back through the steckerbrett again\n",
    "        letter = self.Steckerbrett.swap(letter)\n",
    "\n",
    "        # rotation of rotors\n",
    "        for r in self.Rotors:\n",
    "            if not r.rotation():\n",
    "                break\n",
    "\n",
    "        return letter # encrypted!!\n",
    "\n",
    "    def decrypt(self, letter):\n",
    "        # resetting rotor positions before decrypting\n",
    "        for i, r in enumerate(self.Rotors):\n",
    "            r.position = self.initial_pos[i]\n",
    "        # encrypting the letter as usual (works for decryption due to symmetry)\n",
    "        return self.encrypt(letter)"
   ]
  },
  {
   "cell_type": "code",
   "execution_count": 38,
   "id": "36ce3af5-7487-463a-88b2-ad407a71452d",
   "metadata": {},
   "outputs": [
    {
     "name": "stdout",
     "output_type": "stream",
     "text": [
      "VYTGQIPRMHSWFCDJEUKALOXZNB\n"
     ]
    }
   ],
   "source": [
    "# IGNORE\n",
    "# created just to generate rotor wiring settings\n",
    "a = list(string.ascii_uppercase)\n",
    "random.shuffle(a)\n",
    "print(''.join(a))"
   ]
  },
  {
   "cell_type": "code",
   "execution_count": 46,
   "id": "e0f70d27-0414-4c7a-99fc-f3ea5360d52c",
   "metadata": {},
   "outputs": [],
   "source": [
    "# Configurations\n",
    "\n",
    "steckerbrett_settings = [('Q', 'Z'), ('P', 'M')]\n",
    "rotor1 = rotor('TMFIAPLNRUBEGWJDKQXHCZVSOY', notch=16)  \n",
    "rotor2 = rotor('AMFUSYCDWRZKLQGTJXVBOEIHPN', notch=4)\n",
    "rotor3 = rotor('VYTGQIPRMHSWFCDJEUKALOXZNB', notch=21)\n",
    "ref = reflector('FAUTKSIXMBNLZJWQOYCPVRHDEG')\n",
    "\n",
    "Steckerbrett = steckerbrett(steckerbrett_settings)\n",
    "enigma = Enigma(Steckerbrett, [rotor1, rotor2, rotor3], ref)"
   ]
  },
  {
   "cell_type": "markdown",
   "id": "27aae172-4c7a-4309-9795-54360e8d0b03",
   "metadata": {},
   "source": [
    "# Encryption"
   ]
  },
  {
   "cell_type": "code",
   "execution_count": 49,
   "id": "65c9c36f-8364-4694-b0a7-a563a9e1aa5d",
   "metadata": {},
   "outputs": [
    {
     "name": "stdout",
     "output_type": "stream",
     "text": [
      "Encrypted: MNP IAGUGT VZ YTQXWC ECU MHLEVIELUDMNWN MAUYJSRHA CYRD IUNJAUT\n"
     ]
    }
   ],
   "source": [
    "message = 'Das wetter in Berlin ist wahrscheinlich wunderbar heil Sahaana'\n",
    "enc = ''.join(enigma.encrypt(j) if j.isalpha() else j for j in message)\n",
    "print(\"Encrypted:\", enc)"
   ]
  },
  {
   "cell_type": "markdown",
   "id": "3a07d67d-8a89-4ddc-9e21-494ef6e3f342",
   "metadata": {},
   "source": [
    "# Decryption (Work in progress as the Enigma is sensitive to initial rotor positions)"
   ]
  },
  {
   "cell_type": "code",
   "execution_count": 50,
   "id": "9111c014-a08b-4cc6-9d64-acf5a7e732a1",
   "metadata": {},
   "outputs": [
    {
     "name": "stdout",
     "output_type": "stream",
     "text": [
      "Decrypted: MIY THVNVU OF WUZBXQ SQN MLCSOTSCNJMIXI MHNWPADLH QWDJ TNIPHNU\n"
     ]
    }
   ],
   "source": [
    "dec = ''.join(enigma.decrypt(j) if j.isalpha() else j for j in enc)\n",
    "print(\"Decrypted:\", dec)"
   ]
  }
 ],
 "metadata": {
  "kernelspec": {
   "display_name": "Python 3 (ipykernel)",
   "language": "python",
   "name": "python3"
  },
  "language_info": {
   "codemirror_mode": {
    "name": "ipython",
    "version": 3
   },
   "file_extension": ".py",
   "mimetype": "text/x-python",
   "name": "python",
   "nbconvert_exporter": "python",
   "pygments_lexer": "ipython3",
   "version": "3.12.8"
  }
 },
 "nbformat": 4,
 "nbformat_minor": 5
}
